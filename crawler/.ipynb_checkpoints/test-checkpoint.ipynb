{
 "cells": [
  {
   "cell_type": "code",
   "execution_count": null,
   "metadata": {
    "collapsed": false
   },
   "outputs": [],
   "source": [
    "import urllib\n",
    "import re\n",
    "\n",
    "addr = 'http://givingsense.eu/sembib/data/srcPdf/'\n",
    "\n",
    "with urllib.request.urlopen(addr) as f:\n",
    "    links = re.findall('\"[^<^>]*.pdf', f.read().decode('iso-8859-1'))\n",
    "    \n",
    "for link in links:\n",
    "    try:\n",
    "        urllib.request.urlretrieve(addr+link[1:], 'papers/'+ urllib.parse.unquote(link[1:]))\n",
    "    except:\n",
    "        print (urllib.parse.unquote(link[1:]))"
   ]
  },
  {
   "cell_type": "code",
   "execution_count": null,
   "metadata": {
    "collapsed": false
   },
   "outputs": [],
   "source": [
    "#coding=utf-8\n",
    "from os import listdir\n",
    "from re import sub\n",
    "import csv\n",
    "fileNames = [sub('[\\W]',' ',f[:-4]) for f in listdir('F:\\WorkSpace\\PAF-Telecom-ParisTech\\crawler\\papers')]\n",
    "with open('papers.csv', 'w', encoding='UTF-8', newline='') as f:\n",
    "    outFile = csv.writer(f, dialect='excel')\n",
    "    outFile.writerow(fileNames)"
   ]
  }
 ],
 "metadata": {
  "anaconda-cloud": {},
  "kernelspec": {
   "display_name": "Python [default]",
   "language": "python",
   "name": "python3"
  },
  "language_info": {
   "codemirror_mode": {
    "name": "ipython",
    "version": 3
   },
   "file_extension": ".py",
   "mimetype": "text/x-python",
   "name": "python",
   "nbconvert_exporter": "python",
   "pygments_lexer": "ipython3",
   "version": "3.5.2"
  }
 },
 "nbformat": 4,
 "nbformat_minor": 1
}
