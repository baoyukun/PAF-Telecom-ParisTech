{
 "cells": [
  {
   "cell_type": "code",
   "execution_count": null,
   "metadata": {
    "collapsed": false
   },
   "outputs": [],
   "source": [
    "from subprocess import Popen, PIPE\n",
    "import xml.etree.ElementTree as ET\n",
    "\n",
    "pipe = Popen(\"curl -v --form input=@test.pdf localhost:8080/processReferences\", stdout=PIPE)\n",
    "with open('test.xml','wb') as outFile:\n",
    "    outFile.write(pipe.communicate()[0])\n",
    "tree = ET.parse('test.xml')\n",
    "root = tree.getroot()\n",
    "root[0]"
   ]
  },
  {
   "cell_type": "code",
   "execution_count": null,
   "metadata": {
    "collapsed": false
   },
   "outputs": [],
   "source": [
    "from subprocess import Popen, PIPE\n",
    "from os import listdir\n",
    "from time import time, sleep\n",
    "\n",
    "def exec_shell(cmd):\n",
    "    try:\n",
    "        pipe = Popen(cmd, stdout=PIPE)\n",
    "        result = pipe.communicate(timeout=20)[0]\n",
    "        return result\n",
    "    except:\n",
    "        pipe.kill()\n",
    "        return ''\n",
    "\n",
    "def main(path):\n",
    "    exceptionFiles = []\n",
    "    start = time()\n",
    "    \n",
    "    for f in listdir(path):\n",
    "        s1 = exec_shell(['curl', '-v', '--form', 'input=@./paper/'+f, 'localhost:8080/processHeaderDocument'])\n",
    "        sleep(1)\n",
    "        s2 = exec_shell(['curl', '-v', '--form', 'input=@./paper/'+f, 'localhost:8080/processReferences'])\n",
    "        if s1 and s2:\n",
    "            with open('paper/'+f[:-4]+'-header.xml', 'wb') as out1, open('paper/'+f[:-4]+'-ref.xml', 'wb') as out2:\n",
    "                out1.write(s1)\n",
    "                out2.write(s2)\n",
    "        else:\n",
    "            exceptionFiles.append(f)\n",
    "        sleep(1)\n",
    "    \n",
    "    print ('Ends with '+ time()-start + ' s.')\n",
    "    print (len(exceptionFiles))\n",
    "    print (exceptionFiles)\n",
    "    \n",
    "main('F:\\WorkSpace\\papers\\paper')"
   ]
  },
  {
   "cell_type": "code",
   "execution_count": 1,
   "metadata": {
    "collapsed": false
   },
   "outputs": [],
   "source": [
    "import os\n",
    "\n",
    "for f in os.listdir('F:\\WorkSpace\\papers\\paper_done'):\n",
    "    if '-header.xml' in f:\n",
    "        original = 'F:\\WorkSpace\\papers\\paper\\\\' + f[:-11] + '.pdf'\n",
    "        dest = 'F:\\WorkSpace\\papers\\paper_done\\\\' + f[:-11] + '.pdf'\n",
    "        os.rename(original, dest)"
   ]
  }
 ],
 "metadata": {
  "anaconda-cloud": {},
  "kernelspec": {
   "display_name": "Python [conda root]",
   "language": "python",
   "name": "conda-root-py"
  },
  "language_info": {
   "codemirror_mode": {
    "name": "ipython",
    "version": 3
   },
   "file_extension": ".py",
   "mimetype": "text/x-python",
   "name": "python",
   "nbconvert_exporter": "python",
   "pygments_lexer": "ipython3",
   "version": "3.5.2"
  }
 },
 "nbformat": 4,
 "nbformat_minor": 1
}
