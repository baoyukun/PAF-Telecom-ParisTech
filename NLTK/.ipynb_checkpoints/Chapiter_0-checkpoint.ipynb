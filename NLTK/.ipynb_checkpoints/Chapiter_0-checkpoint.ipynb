{
 "cells": [
  {
   "cell_type": "markdown",
   "metadata": {},
   "source": [
    "# Chapiter_0 Preface\n",
    "\n",
    "## Emphasis\n",
    "\n",
    "To learn about **advanced algorithms** implemented in NLTK, examine the [Python source code](https://github.com/nltk/nltk) and consult other materials cited in this book.\n",
    "\n",
    "After completing these materials, try to attempt more advanced textbooks, such as **Speech and Language Processing**, _by Jurafsky and Martin (Prentice Hall, 2008)_.\n",
    "\n",
    "## Why Python?\n",
    "\n",
    "- Shallow learning curve, its syntax and semantics are transparent, and good string-handling functionality.\n",
    "- As an interpreted language, Python facilitates interactive exploration.\n",
    "- As an object-oriented language, Python permits data and methods to be encapsulated and re-used easily.\n",
    "- As a dynamic language, Python permits attributes to be added to objects on the fly, and permits variables to be typed dynamically, facilitating rapid development.\n",
    "- An extensive standard library, including components for graphical programming, numerical processing, and web connectivity.\n",
    "\n",
    "## V3.0 VS V2.0\n",
    "\n",
    "Python 3 includes some significant changes(see details [here](https://docs.python.org/dev/whatsnew/3.0.html) or convert Python 2 code to Python 3 via [2to3.py](https://docs.python.org/2/library/2to3.html)):\n",
    "\n",
    "- print statement is now a function, so \"**print (...)**\";\n",
    "- many functions now return **iterators** instead of lists (to save memory usage);\n",
    "- **integer division** returns a floating point number;\n",
    "- all text is now **Unicode**\n",
    "- strings are formatted using the **format method**\n",
    "\n",
    "## Software Requirements\n",
    "\n",
    "- **Python** version 3.2 or later (NLTK 3.0 also works with Python 2.6 and 2.7.)\n",
    "- **NLTK** version 3.0\n",
    "- **NLTK-Data** (contains the linguistic corpora)\n",
    "- **NumPy** (support for multidimensional arrays and linear algebra)\n",
    "- **Matplotlib** (2D plotting library for data visualization)\n",
    "- **[Stanford NLP Tools](http://nlp.stanford.edu/software/)** (useful for large scale language processing)\n",
    "- **NetworkX** (for storing and manipulating network structures consisting of nodes and edges. For visualizing semantic networks, also install the [Graphviz](http://www.graphviz.org/Gallery.php) library)\n",
    "- **Prover9** (automated theorem prover for first-order and equational logic, used to support _inference_ in language processing)\n",
    "\n",
    "## About the authors\n",
    "\n",
    "**[Steven Bird](http://www.stevenbird.net/)**, Associate Professor in the Department of Computer Science and Software Engineering at the University of Melbourne, enior Research Associate in the Linguistic Data Consortium at the University of Pennsylvania.\n",
    "\n",
    "**[Ewan Klein](http://homepages.inf.ed.ac.uk/ewan/)**, Professor of Language Technology in the School of Informatics at the University of Edinburgh. He completed a PhD on formal semantics at the University of Cambridge in 1978.\n",
    "\n",
    "**[Edward Loper](http://ed.loper.org/)**, recently completed a PhD on machine learning for natural language processing at the the University of Pennsylvania, as well as a student in Steven's graduate course on computational linguistics."
   ]
  }
 ],
 "metadata": {
  "anaconda-cloud": {},
  "kernelspec": {
   "display_name": "Python [default]",
   "language": "python",
   "name": "python3"
  },
  "language_info": {
   "codemirror_mode": {
    "name": "ipython",
    "version": 3
   },
   "file_extension": ".py",
   "mimetype": "text/x-python",
   "name": "python",
   "nbconvert_exporter": "python",
   "pygments_lexer": "ipython3",
   "version": "3.5.2"
  }
 },
 "nbformat": 4,
 "nbformat_minor": 1
}
