{
 "cells": [
  {
   "cell_type": "markdown",
   "metadata": {},
   "source": [
    "# Chapiter_1 Preface\n",
    "\n",
    "## Emphasis\n",
    "\n",
    "To learn about **advanced algorithms** implemented in NLTK, examine the [Python source code](https://github.com/nltk/nltk) and consult other materials cited in this book.\n",
    "\n",
    "## Why Python?\n",
    "\n",
    "- Shallow learning curve, its syntax and semantics are transparent, and good string-handling functionality.\n",
    "- As an interpreted language, Python facilitates interactive exploration.\n",
    "- As an object-oriented language, Python permits data and methods to be encapsulated and re-used easily.\n",
    "- As a dynamic language, Python permits attributes to be added to objects on the fly, and permits variables to be typed dynamically, facilitating rapid development.\n",
    "- An extensive standard library, including components for graphical programming, numerical processing, and web connectivity.\n",
    "\n",
    "## V3.0 VS V2.0\n",
    "\n",
    "Python 3 includes some significant changes(see details [here](https://docs.python.org/dev/whatsnew/3.0.html) or convert Python 2 code to Python 3 via [2to3.py](https://docs.python.org/2/library/2to3.html)):\n",
    "\n",
    "- print statement is now a function, so \"**print (...)**\";\n",
    "- many functions now return **iterators** instead of lists (to save memory usage);\n",
    "- **integer division** returns a floating point number;\n",
    "- all text is now **Unicode**\n",
    "- strings are formatted using the **format method**\n",
    "\n",
    "## Software Requirements\n",
    "\n",
    "- **Python** version 3.2 or later (NLTK 3.0 also works with Python 2.6 and 2.7.)\n",
    "- **NLTK** version 3.0\n",
    "- **NLTK-Data** (contains the linguistic corpora)\n",
    "- **NumPy** (support for multidimensional arrays and linear algebra)\n",
    "- **Matplotlib** (2D plotting library for data visualization)\n",
    "- **[Stanford NLP Tools](http://nlp.stanford.edu/software/)** (useful for large scale language processing)\n",
    "- **NetworkX** (for storing and manipulating network structures consisting of nodes and edges. For visualizing semantic networks, also install the [Graphviz](http://www.graphviz.org/Gallery.php) library)\n",
    "- **Prover9** (automated theorem prover for first-order and equational logic, used to support _inference_ in language processing)"
   ]
  }
 ],
 "metadata": {
  "anaconda-cloud": {},
  "kernelspec": {
   "display_name": "Python [default]",
   "language": "python",
   "name": "python3"
  },
  "language_info": {
   "codemirror_mode": {
    "name": "ipython",
    "version": 3
   },
   "file_extension": ".py",
   "mimetype": "text/x-python",
   "name": "python",
   "nbconvert_exporter": "python",
   "pygments_lexer": "ipython3",
   "version": "3.5.2"
  }
 },
 "nbformat": 4,
 "nbformat_minor": 1
}
